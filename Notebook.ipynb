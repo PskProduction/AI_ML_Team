{
 "cells": [
  {
   "cell_type": "code",
   "execution_count": null,
   "id": "673cbd01-bb7a-4f41-ad80-ea49c79bf300",
   "metadata": {},
   "outputs": [],
   "source": [
    "import pandas as pd\n",
    "import os\n",
    "import matplotlib.pyplot as plt\n",
    "\n",
    "\n",
    "class DrawingPlots:\n",
    "    def draw_plots(self, json_file_path):\n",
    "        try:\n",
    "            df = pd.read_json(json_file_path)\n",
    "            plot_paths = []\n",
    "            for column in df.columns:\n",
    "                if pd.api.types.is_numeric_dtype(df[column]):\n",
    "                    plt.figure(figsize=(12, 6))\n",
    "                    plt.plot(df.index, df[column])\n",
    "                    plt.title(column)\n",
    "                    plt.xlabel('X axis')\n",
    "                    plt.ylabel('Y axis')\n",
    "                    plt.grid()\n",
    "\n",
    "                    plot_filename = f'{column}.png'\n",
    "                    if not os.path.exists(os.path.join(os.getcwd(), 'plots')):\n",
    "                        os.mkdir(os.path.join(os.getcwd(), 'plots'))\n",
    "                    plot_path = os.path.join(os.getcwd(), 'plots', plot_filename)\n",
    "                    plt.savefig(plot_path)\n",
    "                    plot_paths.append(plot_path)\n",
    "                    plt.close()\n",
    "            return plot_paths\n",
    "        except Exception as e:\n",
    "            print('Произошла ошибка: ', e)\n",
    "            return []\n",
    "\n",
    "\n",
    "json_file = 'deviation.json'\n",
    "plotter = DrawingPlots()\n",
    "plot_paths = plotter.draw_plots(json_file)\n",
    "print('Plots saved to:', plot_paths)\n"
   ]
  }
 ],
 "metadata": {
  "kernelspec": {
   "display_name": "Python 3 (ipykernel)",
   "language": "python",
   "name": "python3"
  },
  "language_info": {
   "codemirror_mode": {
    "name": "ipython",
    "version": 3
   },
   "file_extension": ".py",
   "mimetype": "text/x-python",
   "name": "python",
   "nbconvert_exporter": "python",
   "pygments_lexer": "ipython3",
   "version": "3.10.12"
  }
 },
 "nbformat": 4,
 "nbformat_minor": 5
}
